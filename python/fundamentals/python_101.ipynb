{
 "cells": [
  {
   "attachments": {},
   "cell_type": "markdown",
   "metadata": {},
   "source": [
    "<h1>Python Fundamental 101</h1>\n",
    "<img style='height: 50px' src='https://upload.wikimedia.org/wikipedia/commons/thumb/c/c3/Python-logo-notext.svg/800px-Python-logo-notext.svg.png'></img>\n",
    "\n",
    "*Reference*\n",
    "* https://docs.python.org/3/\n",
    "* https://codemy.com/books/IntroToPython.pdf\n",
    "\n",
    "\n",
    "###### ( ʘ ෴ ʘ )"
   ]
  },
  {
   "attachments": {},
   "cell_type": "markdown",
   "metadata": {},
   "source": [
    "#### Hello World"
   ]
  },
  {
   "cell_type": "code",
   "execution_count": 9,
   "metadata": {},
   "outputs": [
    {
     "name": "stdout",
     "output_type": "stream",
     "text": [
      "hello world zzz...\n",
      "\n",
      "\n"
     ]
    }
   ],
   "source": [
    "# Create variable object & print()\n",
    "generic_text = 'hello world zzz...\\n\\n'\n",
    "print(generic_text)\n"
   ]
  },
  {
   "attachments": {},
   "cell_type": "markdown",
   "metadata": {},
   "source": [
    "## Data Types"
   ]
  },
  {
   "cell_type": "code",
   "execution_count": 10,
   "metadata": {},
   "outputs": [
    {
     "name": "stdout",
     "output_type": "stream",
     "text": [
      "This is a string:\n",
      "string of text\n",
      "\n",
      "\n",
      "This is a number:\n",
      "1\n",
      "\n",
      "\n",
      "This is a list item:\n",
      "item 0\n",
      "\n",
      "\n",
      "This is a list:\n",
      "['item 0', 'item 1', 'item 2']\n",
      "\n",
      "\n",
      "This is a tuples item:\n",
      "item 0\n",
      "\n",
      "\n",
      "This is a tuple:\n",
      "('item 0', 'item 1', 'item 2')\n",
      "\n",
      "\n",
      "This is a dictionary item:\n",
      "Scottsdale Drive\n",
      "\n",
      "\n",
      "This is a dictionary:\n",
      "{'retail': 'Scottsdale Drive', 'manufacturing': 'Glencore Industrial Park', 'timber supplier': 'Beaumont Coppice'}\n",
      "\n",
      "\n"
     ]
    }
   ],
   "source": [
    "# Create function to explain Python's data types \n",
    "def data_types():\n",
    "    '''\n",
    "    This function returns: Each python data type: strings, numbers, lists, tuples, dictionaries.\n",
    "    '''\n",
    "    # Strings of DATA\n",
    "    string = 'string of text'\n",
    "    print(f'This is a string:\\n{string}\\n\\n')\n",
    "    \n",
    "    # Numbers as DATA\n",
    "    number = 1\n",
    "    print(f'This is a number:\\n{number}\\n\\n')\n",
    "\n",
    "    # Lists of DATA | CAN be changed\n",
    "    list = ['item 0', 'item 1', 'item 2'] # some times referred to as an Array\n",
    "    print(f'This is a list item:\\n{list[0]}\\n\\n')\n",
    "    print(f'This is a list:\\n{list}\\n\\n')\n",
    "\n",
    "    # Tuples of DATA | CANNOT be changed\n",
    "    tuple = ('item 0', 'item 1', 'item 2') # Tuples are immutable\n",
    "    print(f'This is a tuples item:\\n{tuple[0]}\\n\\n')\n",
    "    print(f'This is a tuple:\\n{tuple}\\n\\n')\n",
    "\n",
    "    # Dictionaries of DATA\n",
    "    dictionary = {\n",
    "        'retail':'Scottsdale Drive',\n",
    "        'manufacturing': 'Glencore Industrial Park',\n",
    "        'timber supplier': 'Beaumont Coppice',\n",
    "    }\n",
    "    print(f'This is a dictionary item:\\n{dictionary[\"retail\"]}\\n\\n')\n",
    "    print(f'This is a dictionary:\\n{dictionary}\\n\\n')\n",
    "\n",
    "data_types()"
   ]
  },
  {
   "attachments": {},
   "cell_type": "markdown",
   "metadata": {},
   "source": [
    "### Strings"
   ]
  },
  {
   "cell_type": "code",
   "execution_count": 11,
   "metadata": {},
   "outputs": [
    {
     "name": "stdout",
     "output_type": "stream",
     "text": [
      "Why??? would I say \n",
      " \"That not right\"\n",
      "When I specifically stated it's right?\n",
      "\n",
      "\n",
      "WHY??? WOULD I SAY \n",
      " \"THAT NOT RIGHT\"\n",
      "WHEN I SPECIFICALLY STATED IT'S RIGHT?\n",
      "\n",
      "\n",
      "why??? would i say \n",
      " \"that not right\"\n",
      "when i specifically stated it's right?\n",
      "\n",
      "\n",
      "Why??? would i say \n",
      " \"that not right\"\n",
      "when i specifically stated it's right?\n",
      "\n",
      "\n",
      "Why??? Would I Say \n",
      " \"That Not Right\"\n",
      "When I Specifically Stated It'S Right?\n",
      "\n",
      "\n",
      "wHY??? WOULD i SAY \n",
      " \"tHAT NOT RIGHT\"\n",
      "wHEN i SPECIFICALLY STATED IT'S RIGHT?\n",
      "\n",
      "\n",
      "78\n",
      "W\n",
      "hy??? wo\n",
      "uld I say \n",
      " \"That not right\"\n",
      "When I specifically stated it's right?\n",
      "\n",
      "\n",
      "uld I say \n",
      " \"That not right\"\n",
      "When I specifically stated it's right?\n",
      "\n",
      "\n",
      "['Why???', 'would', 'I', 'say', '\\n', '\"That', 'not', 'right\"\\nWhen', 'I', 'specifically', 'stated', \"it's\", 'right?\\n\\n']\n",
      "WHY???\n",
      "22\n"
     ]
    }
   ],
   "source": [
    "# Strings\n",
    "\n",
    "speech = \"Why??? would I say \\n \\\"That not right\\\"\\nWhen I specifically stated it's right?\\n\\n\"\n",
    "print(speech)\n",
    "\n",
    "# String Manipulation\n",
    "\n",
    "print(speech.upper()) # Uppercase\n",
    "print(speech.lower()) # Lowercase\n",
    "print(speech.capitalize()) # First Letter of Capitalized\n",
    "print(speech.title()) # All words First Letter Capitalized\n",
    "print(speech.swapcase()) # Swap cases on words\n",
    "\n",
    "print(len(speech)) # Length character of a string\n",
    "print(speech[0]) # Character in a string\n",
    "print(speech[1:9]) # Range of Characters in a string\n",
    "print(speech[9:len(speech)]) # Range of Characters in a string\n",
    "print(speech[9:len(speech)]) # Range of Characters in a string\n",
    "print(speech.split(' ')) # Slit string into list like object\n",
    "print(speech.split(' ')[0].upper()) # Slit in list like object\n",
    "print(len('JamalNoahChesterMorris'))"
   ]
  },
  {
   "attachments": {},
   "cell_type": "markdown",
   "metadata": {},
   "source": [
    "### Numbers & Math"
   ]
  },
  {
   "cell_type": "code",
   "execution_count": 21,
   "metadata": {},
   "outputs": [
    {
     "name": "stdout",
     "output_type": "stream",
     "text": [
      "MATH OPERATORS LISTED IN ORDER OF PRECEDENCE FROM HIGHEST TO LOWEST\n",
      "**   Powers:             8\n",
      "%    Modulus:            6\n",
      "/&%   divmod:        (2, 6)\n",
      "//   Integer Division:   2\n",
      "/    Division:           2.75\n",
      "*    Multiply:          15\n",
      "-    Minus:              3\n",
      "+    Addition:           4\n",
      "\n",
      "Not Override BODMAS sum:  3 + 1  * 4 = 7\n",
      "    Override BODMAS sum: (3 + 1) * 4 = 16\n",
      "\n",
      "Control the decimal places of float using round(): 741.8026\n"
     ]
    }
   ],
   "source": [
    "# Numbers & Maths\n",
    "\n",
    "def math_operators():\n",
    "    '''Returns: Math operators listed in order of precedence from Highest to Lowest'''\n",
    "    result = 'Math operators listed in order of precedence from Highest to Lowest'\n",
    "    print(result.upper())\n",
    "    print(f'**   Powers:             {2 ** 3}') # Exponent/Powers\n",
    "    print(f'%    Modulus:            {22 % 8}') # Modulus/Division Remainder\n",
    "    print(f'/&%   divmod:        {divmod(22, 8)}') # Division & modulus\n",
    "    print(f'//   Integer Division:   {22 // 8}') # Integer Division / Floored Quotation\n",
    "    print(f'/    Division:           {22 / 8}') # Division\n",
    "    print(f'*    Multiply:          {3 * 5}') # Multiplication\n",
    "    print(f'-    Minus:              {5 - 2}') # Subtraction\n",
    "    print(f'+    Addition:           {2 + 2}') # Addition\n",
    "\n",
    "math_operators()\n",
    "\n",
    "# The mathmatical order of operations can be overridden using ()\n",
    "print(f'\\nNot Override BODMAS sum:  3 + 1  * 4 = {3 + 1 * 4}')\n",
    "print(f'    Override BODMAS sum: (3 + 1) * 4 = {(3 + 1) * 4}\\n')\n",
    "\n",
    "# Using round() to control dp of a float\n",
    "print(f'Control the decimal places of float using round(): {round((22.33*33.22), 4)}')"
   ]
  },
  {
   "attachments": {},
   "cell_type": "markdown",
   "metadata": {},
   "source": [
    "### Assignment Operators"
   ]
  },
  {
   "cell_type": "code",
   "execution_count": 22,
   "metadata": {},
   "outputs": [
    {
     "name": "stdout",
     "output_type": "stream",
     "text": [
      "22\n"
     ]
    }
   ],
   "source": [
    "# Assignment Operator | Simple\n",
    "number = 32\n",
    "number += 1\n",
    "number -= 11\n",
    "# Less efficient Version\n",
    "# number = number + 1\n",
    "print(number)"
   ]
  },
  {
   "attachments": {},
   "cell_type": "markdown",
   "metadata": {},
   "source": [
    "### Lists"
   ]
  },
  {
   "cell_type": "code",
   "execution_count": 23,
   "metadata": {},
   "outputs": [
    {
     "name": "stdout",
     "output_type": "stream",
     "text": [
      "This is an example of a .py list: names = ['Colin', 'Jacqueline', 'David', 'Jean', 'Anton']\n",
      "This is an example of a .py list item: name = Colin\n",
      "\n",
      "name: David\n",
      "id: 3\n",
      "\n",
      "        Names ['Colin', 'Jacqueline', 'David', 'Jean', 'Anton']\n",
      "Updated Names ['Colin', 'Jacqueline', 'David', 'Jean', 'Marcellus']\n",
      "\n",
      "        Names ['Colin', 'Jacqueline', 'David', 'Jean', 'Anton']\n",
      "Updated Names ['Colin', 'Jacqueline', 'David', 'Jean']\n",
      "\n",
      "        Names ['Colin', 'Jacqueline', 'David', 'Jean', 'Anton']\n",
      "Updated Names ['Colin', 'Jacqueline', 'David', 'Jean', 'Anton', 'Yusuf', 'Jemima', 'Marcellus']\n",
      "\n",
      "Marcellus\n"
     ]
    }
   ],
   "source": [
    "# A python list\n",
    "names = ['Colin', 'Jacqueline', 'David', 'Jean', 'Anton',]\n",
    "print(f'This is an example of a .py list: names = {names}')\n",
    "print(f'This is an example of a .py list item: name = {names[0]}')\n",
    "\n",
    "\n",
    "# Adding lists to a list\n",
    "numbers = [1,2,3,4,5]\n",
    "names_numbers = [names, numbers]\n",
    "_id = 2\n",
    "print(f'\\nname: {names_numbers[0][_id]}\\nid: {names_numbers[1][_id]}\\n') # When quoting a list 1st item is in place 0\n",
    "\n",
    "\n",
    "# Changing a list\n",
    "updated_names = names.copy()\n",
    "updated_names[4] = 'Marcellus'\n",
    "print(f'        Names {names}')\n",
    "print(f'Updated Names {updated_names}')\n",
    "\n",
    "\n",
    "# Delete a list item\n",
    "updated_names = names.copy()\n",
    "del updated_names[4]\n",
    "print(f'\\n        Names {names}')\n",
    "print(f'Updated Names {updated_names}\\n')\n",
    "\n",
    "\n",
    "# Append a list item\n",
    "updated_names = names.copy()\n",
    "updated_names.append('Yusuf') # Append Single item\n",
    "# Append a list of items\n",
    "additional_names = ['Jemima', 'Marcellus']\n",
    "# updated_names.append(additional_names) # append new list as list\n",
    "\n",
    "# updated_names.extend(additional_names)\n",
    "# updated_names = updated_names + additional_names\n",
    "\n",
    "def append_list_to_list(legacy_list, additional_list):\n",
    "    '''\n",
    "        Appends items from additional list to a \"legacy_list\" list\n",
    "            Arguments:\n",
    "                legacy_list = your LIST which to want to append items too\n",
    "                additional_list = NEW_LIST (the list you want to append)\n",
    "            Returns:\n",
    "                a list which has been created by appending items from another list\n",
    "    '''\n",
    "    for items in additional_list:\n",
    "        '''loops through and appends new list items to list'''\n",
    "        legacy_list.append(items)\n",
    "\n",
    "append_list_to_list(legacy_list=updated_names, additional_list=additional_names)\n",
    "\n",
    "print(f'        Names {names}')\n",
    "print(f'Updated Names {updated_names}\\n')\n",
    "\n",
    "\n",
    "# Finding the last item in a list with an unknown length\n",
    "print ( updated_names [( len( updated_names )) - 1 ])"
   ]
  },
  {
   "attachments": {},
   "cell_type": "markdown",
   "metadata": {},
   "source": [
    "### Tuples"
   ]
  },
  {
   "cell_type": "code",
   "execution_count": 24,
   "metadata": {},
   "outputs": [
    {
     "name": "stdout",
     "output_type": "stream",
     "text": [
      "This is an example of a .py tuple: names = ('Colin', 'Jacqueline', 'David', 'Jean', 'Anton')\n",
      "This is an example of a .py tuple item: name = Colin\n",
      "tuple: additional_names = ('Yusuf', 'Jemima', 'Marcellus', 'Callum')\n",
      "tuple: updated_names = ('Yusuf', 'Jemima', 'Marcellus', 'Callum', 'Colin', 'Jacqueline', 'David', 'Jean', 'Anton')\n",
      "tuple: first_two_in_updated_names = ('Yusuf', 'Jemima')\n"
     ]
    }
   ],
   "source": [
    "# A python list\n",
    "# Tuples are much the same as lists but they are immutable ('CANNOT' be changed), however they are marginally faster.\n",
    "names = ('Colin', 'Jacqueline', 'David', 'Jean', 'Anton',)\n",
    "\n",
    "print(f'This is an example of a .py tuple: names = {names}')\n",
    "print(f'This is an example of a .py tuple item: name = {names[0]}')\n",
    "\n",
    "# 'CHANGING' a tuple\n",
    "additional_names = ('Yusuf', 'Jemima', 'Marcellus', 'Callum',)\n",
    "updated_names = additional_names + names # Creating a new tuple from two tuples.\n",
    "\n",
    "print(f'tuple: additional_names = {additional_names}')\n",
    "print(f'tuple: updated_names = {updated_names}')\n",
    "\n",
    "# Controlling the range of the output\n",
    "print(f'tuple: first_two_in_updated_names = {updated_names[0:2]}')"
   ]
  },
  {
   "attachments": {},
   "cell_type": "markdown",
   "metadata": {},
   "source": [
    "### Dictionary"
   ]
  },
  {
   "cell_type": "code",
   "execution_count": 16,
   "metadata": {},
   "outputs": [
    {
     "name": "stdout",
     "output_type": "stream",
     "text": [
      "This is an example of a .py dictionary: Phone Book = {'Noah': 442020202033888, 'Haon': 442020202033888, 'Jamal': 442020202033888, 'Lamaj': 442020202033888, 'Yusuf': 442020202033888, 'Fusuy': 442020202033888, 'DelBoy': 442020202033888}\n",
      "This is an example of a .py dictionary item: name = 442020202033888\n",
      "Updated Phone Book = {'Noah': 442020202033888, 'Haon': 442020202033888, 'Jamal': 442020202033888, 'Lamaj': 442020202033888, 'Yusuf': 442020202033888, 'Fusuy': 442020202033888}\n",
      "Updated Phone Book = {'Noah': 442020202033888, 'Haon': 441613745724573, 'Jamal': 442020202033888, 'Lamaj': 442020202033888, 'Yusuf': 442020202033888, 'Fusuy': 442020202033888}\n",
      "Updated Phone Book = {'Noah': 442020202033888, 'Haon': 441613745724573, 'Jamal': 442020202033888, 'Lamaj': 442020202033888, 'Yusuf': 442020202033888, 'Fusuy': 442020202033888, 'Jamal Noah Chester Morris': 88888888}\n",
      "Dictionary comprehension from random numbers = {'Colin': 447372997899, 'Jacqueline': 44710398888810, 'David': 4479767699910, 'Jean': 4479139489910, 'Anton': 4472710468978}\n"
     ]
    }
   ],
   "source": [
    "from random import randint\n",
    "\n",
    "def generate_random_number():\n",
    "    '''\n",
    "        A function to generate a random number with British region code.\n",
    "        args: \n",
    "            None\n",
    "        return: \n",
    "            phone_number (int): British phone number \n",
    "\n",
    "    '''\n",
    "    random_number = ''.join([str(randint(number, 10)) \n",
    "                             for number in range(9)]\n",
    "                             )\n",
    "    return int(f'447{random_number}')\n",
    "\n",
    "\n",
    "# A python dictionary, also known as a hash in other languages\n",
    "mobile_number = 442020202033888\n",
    "\n",
    "names = ['Colin', 'Jacqueline', 'David', 'Jean', 'Anton']\n",
    "phone_numbers = [generate_random_number() for _ in range(len(names))]\n",
    "\n",
    "\n",
    "phonebook = {\n",
    "    'Noah':mobile_number,\n",
    "    'Haon':mobile_number,\n",
    "    'Jamal':mobile_number,\n",
    "    'Lamaj':mobile_number,\n",
    "    'Yusuf':mobile_number,\n",
    "    'Fusuy':mobile_number,\n",
    "    'DelBoy':mobile_number,\n",
    "}\n",
    "\n",
    "print(f'This is an example of a .py dictionary: Phone Book = {phonebook}')\n",
    "print(f'This is an example of a .py dictionary item: name = {phonebook[\"Jamal\"]}')\n",
    "\n",
    "# Delete a Key value pair / item\n",
    "del phonebook['DelBoy']\n",
    "print(f'Updated Phone Book = {phonebook}')\n",
    "\n",
    "# Change the value of a key value pair for a specific item\n",
    "phonebook['Haon'] = 441613745724573\n",
    "print(f'Updated Phone Book = {phonebook}')\n",
    "\n",
    "# Add a new Key Value pair to the dictionary using update()\n",
    "phonebook.update({'Jamal Noah Chester Morris':88888888})\n",
    "print(f'Updated Phone Book = {phonebook}')\n",
    "\n",
    "# dictionary comprehension to loop over names in list to construct a dictionary\n",
    "namebook = {name: number  for (name, number) in zip(names, phone_numbers)}\n",
    "print(f'Dictionary comprehension from random numbers = {namebook}')"
   ]
  },
  {
   "attachments": {},
   "cell_type": "markdown",
   "metadata": {},
   "source": [
    "## Python"
   ]
  },
  {
   "cell_type": "code",
   "execution_count": null,
   "metadata": {},
   "outputs": [],
   "source": []
  }
 ],
 "metadata": {
  "kernelspec": {
   "display_name": "venv",
   "language": "python",
   "name": "python3"
  },
  "language_info": {
   "codemirror_mode": {
    "name": "ipython",
    "version": 3
   },
   "file_extension": ".py",
   "mimetype": "text/x-python",
   "name": "python",
   "nbconvert_exporter": "python",
   "pygments_lexer": "ipython3",
   "version": "3.11.3"
  },
  "orig_nbformat": 4
 },
 "nbformat": 4,
 "nbformat_minor": 2
}
