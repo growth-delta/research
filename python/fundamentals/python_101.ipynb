{
 "cells": [
  {
   "attachments": {},
   "cell_type": "markdown",
   "metadata": {},
   "source": [
    "<h1>Python Fundamental 101</h1>\n",
    "<img style='height: 50px' src='https://upload.wikimedia.org/wikipedia/commons/thumb/c/c3/Python-logo-notext.svg/800px-Python-logo-notext.svg.png'></img>\n",
    "\n",
    "*Reference*\n",
    "* https://docs.python.org/3/\n",
    "* https://codemy.com/books/IntroToPython.pdf\n",
    "\n",
    "\n",
    "###### ( ʘ ෴ ʘ )"
   ]
  },
  {
   "attachments": {},
   "cell_type": "markdown",
   "metadata": {},
   "source": [
    "#### Hello World"
   ]
  },
  {
   "cell_type": "code",
   "execution_count": null,
   "metadata": {},
   "outputs": [],
   "source": [
    "# Create variable object & print()\n",
    "generic_text = 'hello world zzz...\\n\\n'\n",
    "print(generic_text)\n"
   ]
  },
  {
   "attachments": {},
   "cell_type": "markdown",
   "metadata": {},
   "source": [
    "## Data Types"
   ]
  },
  {
   "cell_type": "code",
   "execution_count": null,
   "metadata": {},
   "outputs": [],
   "source": [
    "# Create function to explain Python's data types \n",
    "def data_types():\n",
    "    '''\n",
    "    This function returns: Each python data type: strings, numbers, lists, tuples, dictionaries.\n",
    "    '''\n",
    "    # Strings of DATA\n",
    "    string = 'string of text'\n",
    "    print(f'This is a string:\\n{string}\\n\\n')\n",
    "    \n",
    "    # Numbers as DATA\n",
    "    number = 1\n",
    "    print(f'This is a number:\\n{number}\\n\\n')\n",
    "\n",
    "    # Lists of DATA | CAN be changed\n",
    "    list = ['item 0', 'item 1', 'item 2'] # some times referred to as an Array\n",
    "    print(f'This is a list item:\\n{list[0]}\\n\\n')\n",
    "    print(f'This is a list:\\n{list}\\n\\n')\n",
    "\n",
    "    # Tuples of DATA | CANNOT be changed\n",
    "    tuple = ('item 0', 'item 1', 'item 2') # Tuples are immutable\n",
    "    print(f'This is a tuples item:\\n{tuple[0]}\\n\\n')\n",
    "    print(f'This is a tuple:\\n{tuple}\\n\\n')\n",
    "\n",
    "    # Dictionaries of DATA\n",
    "    dictionary = {\n",
    "        'retail':'Scottsdale Drive',\n",
    "        'manufacturing': 'Glencore Industrial Park',\n",
    "        'timber supplier': 'Beaumont Coppice',\n",
    "    }\n",
    "    print(f'This is a dictionary item:\\n{dictionary[\"retail\"]}\\n\\n')\n",
    "    print(f'This is a dictionary:\\n{dictionary}\\n\\n')\n",
    "\n",
    "data_types()"
   ]
  },
  {
   "attachments": {},
   "cell_type": "markdown",
   "metadata": {},
   "source": [
    "### Strings"
   ]
  },
  {
   "cell_type": "code",
   "execution_count": null,
   "metadata": {},
   "outputs": [],
   "source": [
    "# Strings\n",
    "\n",
    "speech = \"Why??? would I say \\n \\\"That not right\\\"\\nWhen I specifically stated it's right?\\n\\n\"\n",
    "print(speech)\n",
    "\n",
    "# String Manipulation\n",
    "\n",
    "print(speech.upper()) # Uppercase\n",
    "print(speech.lower()) # Lowercase\n",
    "print(speech.capitalize()) # First Letter of Capitalized\n",
    "print(speech.title()) # All words First Letter Capitalized\n",
    "print(speech.swapcase()) # Swap cases on words\n",
    "\n",
    "print(len(speech)) # Length character of a string\n",
    "print(speech[0]) # Character in a string\n",
    "print(speech[1:9]) # Range of Characters in a string\n",
    "print(speech[9:len(speech)]) # Range of Characters in a string\n",
    "print(speech[9:len(speech)]) # Range of Characters in a string\n",
    "print(speech.split(' ')) # Slit string into list like object\n",
    "print(speech.split(' ')[0].upper()) # Slit in list like object\n",
    "print(len('JamalNoahChesterMorris'))"
   ]
  },
  {
   "attachments": {},
   "cell_type": "markdown",
   "metadata": {},
   "source": [
    "### Numbers & Math"
   ]
  },
  {
   "cell_type": "code",
   "execution_count": null,
   "metadata": {},
   "outputs": [],
   "source": [
    "# Numbers & Maths\n",
    "\n",
    "def math_operators():\n",
    "    '''Returns: Math operators listed in order of precedence from Highest to Lowest'''\n",
    "    result = 'Math operators listed in order of precedence from Highest to Lowest'\n",
    "    print(result.upper())\n",
    "    print(f'**   Powers:             {2 ** 3}') # Exponent/Powers\n",
    "    print(f'%    Modulus:            {22 % 8}') # Modulus/Division Remainder\n",
    "    print(f'/&%   divmod:        {divmod(22, 8)}') # Division & modulus\n",
    "    print(f'//   Integer Division:   {22 // 8}') # Integer Division / Floored Quotation\n",
    "    print(f'/    Division:           {22 / 8}') # Division\n",
    "    print(f'*    Multiply:          {3 * 5}') # Multiplication\n",
    "    print(f'-    Minus:              {5 - 2}') # Subtraction\n",
    "    print(f'+    Addition:           {2 + 2}') # Addition\n",
    "\n",
    "math_operators()\n",
    "\n",
    "# The mathmatical order of operations can be overridden using ()\n",
    "print(f'\\nNot Override BODMAS sum:  3 + 1  * 4 = {3 + 1 * 4}')\n",
    "print(f'    Override BODMAS sum: (3 + 1) * 4 = {(3 + 1) * 4}\\n')\n",
    "\n",
    "# Using round() to control dp of a float\n",
    "print(f'Control the decimal places of float using round(): {round((22.33*33.22), 4)}')"
   ]
  },
  {
   "attachments": {},
   "cell_type": "markdown",
   "metadata": {},
   "source": [
    "### Assignment Operators"
   ]
  },
  {
   "cell_type": "code",
   "execution_count": null,
   "metadata": {},
   "outputs": [],
   "source": [
    "# Assignment Operator | Simple\n",
    "number = 32\n",
    "number += 1\n",
    "number -= 11\n",
    "# Less efficient Version\n",
    "# number = number + 1\n",
    "print(number)"
   ]
  },
  {
   "attachments": {},
   "cell_type": "markdown",
   "metadata": {},
   "source": [
    "### Lists"
   ]
  },
  {
   "cell_type": "code",
   "execution_count": null,
   "metadata": {},
   "outputs": [],
   "source": [
    "# A python list\n",
    "names = ['Colin', 'Jacqueline', 'David', 'Jean', 'Anton',]\n",
    "print(f'This is an example of a .py list: names = {names}')\n",
    "print(f'This is an example of a .py list item: name = {names[0]}')\n",
    "\n",
    "\n",
    "# Adding lists to a list\n",
    "numbers = [1,2,3,4,5]\n",
    "names_numbers = [names, numbers]\n",
    "_id = 2\n",
    "print(f'\\nname: {names_numbers[0][_id]}\\nid: {names_numbers[1][_id]}\\n') # When quoting a list 1st item is in place 0\n",
    "\n",
    "\n",
    "# Changing a list\n",
    "updated_names = names.copy()\n",
    "updated_names[4] = 'Marcellus'\n",
    "print(f'        Names {names}')\n",
    "print(f'Updated Names {updated_names}')\n",
    "\n",
    "\n",
    "# Delete a list item\n",
    "updated_names = names.copy()\n",
    "del updated_names[4]\n",
    "print(f'\\n        Names {names}')\n",
    "print(f'Updated Names {updated_names}\\n')\n",
    "\n",
    "\n",
    "# Append a list item\n",
    "updated_names = names.copy()\n",
    "updated_names.append('Yusuf') # Append Single item\n",
    "# Append a list of items\n",
    "additional_names = ['Jemima', 'Marcellus']\n",
    "# updated_names.append(additional_names) # append new list as list\n",
    "\n",
    "# updated_names.extend(additional_names)\n",
    "# updated_names = updated_names + additional_names\n",
    "\n",
    "def append_list_to_list(legacy_list, additional_list):\n",
    "    '''\n",
    "        Appends items from additional list to a \"legacy_list\" list\n",
    "            Arguments:\n",
    "                legacy_list = your LIST which to want to append items too\n",
    "                additional_list = NEW_LIST (the list you want to append)\n",
    "            Returns:\n",
    "                a list which has been created by appending items from another list\n",
    "    '''\n",
    "    for items in additional_list:\n",
    "        '''loops through and appends new list items to list'''\n",
    "        legacy_list.append(items)\n",
    "\n",
    "append_list_to_list(legacy_list=updated_names, additional_list=additional_names)\n",
    "\n",
    "print(f'        Names {names}')\n",
    "print(f'Updated Names {updated_names}\\n')\n",
    "\n",
    "\n",
    "# Finding the last item in a list with an unknown length\n",
    "print ( updated_names [( len( updated_names )) - 1 ])"
   ]
  },
  {
   "attachments": {},
   "cell_type": "markdown",
   "metadata": {},
   "source": [
    "### Tuples"
   ]
  },
  {
   "cell_type": "code",
   "execution_count": null,
   "metadata": {},
   "outputs": [],
   "source": [
    "# A python list\n",
    "# Tuples are much the same as lists but they are immutable ('CANNOT' be changed), however they are marginally faster.\n",
    "names = ('Colin', 'Jacqueline', 'David', 'Jean', 'Anton',)\n",
    "\n",
    "print(f'This is an example of a .py tuple: names = {names}')\n",
    "print(f'This is an example of a .py tuple item: name = {names[0]}')\n",
    "\n",
    "# 'CHANGING' a tuple\n",
    "additional_names = ('Yusuf', 'Jemima', 'Marcellus', 'Callum',)\n",
    "updated_names = additional_names + names # Creating a new tuple from two tuples.\n",
    "\n",
    "print(f'tuple: additional_names = {additional_names}')\n",
    "print(f'tuple: updated_names = {updated_names}')\n",
    "\n",
    "# Controlling the range of the output\n",
    "print(f'tuple: first_two_in_updated_names = {updated_names[0:2]}')"
   ]
  },
  {
   "attachments": {},
   "cell_type": "markdown",
   "metadata": {},
   "source": [
    "### Dictionary"
   ]
  },
  {
   "cell_type": "code",
   "execution_count": null,
   "metadata": {},
   "outputs": [],
   "source": [
    "from random import randint\n",
    "\n",
    "def generate_random_number():\n",
    "    '''\n",
    "        A function to generate a random number with British region code.\n",
    "        args: \n",
    "            None\n",
    "        return: \n",
    "            phone_number (int): British phone number \n",
    "\n",
    "    '''\n",
    "    random_number = ''.join([str(randint(number, 10)) \n",
    "                             for number in range(9)]\n",
    "                             )\n",
    "    return int(f'447{random_number}')\n",
    "\n",
    "\n",
    "# A python dictionary, also known as a hash in other languages\n",
    "mobile_number = 442020202033888\n",
    "\n",
    "names = ['Colin', 'Jacqueline', 'David', 'Jean', 'Anton']\n",
    "phone_numbers = [generate_random_number() for _ in range(len(names))]\n",
    "\n",
    "\n",
    "phonebook = {\n",
    "    'Noah':mobile_number,\n",
    "    'Haon':mobile_number,\n",
    "    'Jamal':mobile_number,\n",
    "    'Lamaj':mobile_number,\n",
    "    'Yusuf':mobile_number,\n",
    "    'Fusuy':mobile_number,\n",
    "    'DelBoy':mobile_number,\n",
    "}\n",
    "\n",
    "print(f'This is an example of a .py dictionary: Phone Book = {phonebook}')\n",
    "print(f'This is an example of a .py dictionary item: name = {phonebook[\"Jamal\"]}')\n",
    "\n",
    "# Delete a Key value pair / item\n",
    "del phonebook['DelBoy']\n",
    "print(f'Updated Phone Book = {phonebook}')\n",
    "\n",
    "# Change the value of a key value pair for a specific item\n",
    "phonebook['Haon'] = 441613745724573\n",
    "print(f'Updated Phone Book = {phonebook}')\n",
    "\n",
    "# Add a new Key Value pair to the dictionary using update()\n",
    "phonebook.update({'Jamal Noah Chester Morris':88888888})\n",
    "print(f'Updated Phone Book = {phonebook}')\n",
    "\n",
    "# dictionary comprehension to loop over names in list to construct a dictionary\n",
    "namebook = {name: number  for (name, number) in zip(names, phone_numbers)}\n",
    "print(f'Dictionary comprehension from random numbers = {namebook}')"
   ]
  },
  {
   "attachments": {},
   "cell_type": "markdown",
   "metadata": {},
   "source": [
    "## Python"
   ]
  },
  {
   "attachments": {},
   "cell_type": "markdown",
   "metadata": {},
   "source": [
    "### Comparison Operators"
   ]
  },
  {
   "cell_type": "code",
   "execution_count": null,
   "metadata": {},
   "outputs": [],
   "source": [
    "# Assignment Operators\n",
    "\n",
    "# Object Variables declared using the single = sign\n",
    "first_name = 'Jamal'\n",
    "middle_name = 'Noah'\n",
    "last_name = 'Chester-Morris'\n",
    "print(first_name+middle_name+last_name)\n",
    "\n",
    "10 == 10 # Double == is asking is x the same as y? Response Boolean: True or False\n",
    "print ( 10 == 10 )\n",
    "print ( 10 == 1*10 )\n",
    "print ( 10 == 1/10 )\n",
    "\n",
    "10 != 10 # != is asking is x NOT the same as y? Response Boolean: True or False\n",
    "print ( 10 != 10 )\n",
    "print ( 10 != 1*10 )\n",
    "print ( 10 != 1/10 )\n",
    "\n",
    "10 > 10 # Greater than: Response Boolean: True or False\n",
    "print ( 10 > 11 ) # False\n",
    "10 >= 10 # Greater than or equal: Response Boolean: True or False\n",
    "print ( 10 >= 10 ) # True\n",
    "\n",
    "10 < 10 # Less than: Response Boolean: True or False\n",
    "print ( 10 < 11 ) # True\n",
    "10 <= 10 # Less than or equal: Response Boolean: True or False\n",
    "print ( 10 <= 10 ) # True"
   ]
  },
  {
   "attachments": {},
   "cell_type": "markdown",
   "metadata": {},
   "source": [
    "### Conditional Statements"
   ]
  },
  {
   "cell_type": "code",
   "execution_count": null,
   "metadata": {},
   "outputs": [],
   "source": [
    "# if statements\n",
    "\n",
    "number = 55\n",
    "\n",
    "if number < 11:\n",
    "    print(f'The number: {number}\\nIs less than 11 by: -{11-number}')\n",
    "\n",
    "elif number in (11, 22, 33, 44, 55, 66, 77, 88, 99,):\n",
    "    print(f'The number: {number}\\nIs a multiple of 11: {int(number/11)}x')\n",
    "\n",
    "else:\n",
    "    print(f'The number: {number}\\nIs greater than 11 by: +{number-11}')\n"
   ]
  },
  {
   "cell_type": "code",
   "execution_count": null,
   "metadata": {},
   "outputs": [],
   "source": [
    "# Multiple Conditional Statements\n",
    "\n",
    "# if xyz and zyx: statement | Both conditions must be met.\n",
    "number = 23\n",
    "if (number >= 1) and (number <= 31):\n",
    "    print(f'The day of the month: {number}\\nIs roughly {int((number/30.4166)*100)}% of the way through the month')\n",
    "else:\n",
    "    print(f'That cannot be a day of the month, you where born... as the average month has 30 days')\n",
    "\n",
    "\n",
    "# if xyz or zyx: statement | At least one condition must be met.\n",
    "number = 4\n",
    "if (number >= 10) or (number <= 100):\n",
    "    print(f'The day of the month: {number}\\nIs {number - 10} from 10, and is {100 - number} from 100')"
   ]
  },
  {
   "attachments": {},
   "cell_type": "markdown",
   "metadata": {},
   "source": [
    "### Loops"
   ]
  },
  {
   "cell_type": "code",
   "execution_count": null,
   "metadata": {},
   "outputs": [],
   "source": [
    "# While loops | \"Infinite\" loop until a condition is met, It's important to ensure the condition can be met, otherwise the loop is infinite.\n",
    "\n",
    "# # Infinte loop where the condition cannot be met | This loop would eventually crash your PC.\n",
    "# # counter = 0\n",
    "# # while (counter <= 10):\n",
    "# #     print('The count = %s' % counter)\n",
    "\n",
    "counter = 0\n",
    "while (counter <= 4):\n",
    "    print('The count: %s' % int(counter))\n",
    "    counter += 2\n",
    "\n",
    "# For loops | loops through thing such as; Lists, Tuples, Dictionaries, Variables... and many other things.\n",
    "\n",
    "# Structure a \"for loop\" = {\n",
    "    # for 'random_name (Things inside defined_variable)' in defined_variable:\n",
    "        # Do something to random_variable \n",
    "# }\n",
    "\n",
    "names = ['Shkreli', 'Khan',]\n",
    "counter = 1\n",
    "for name in names:\n",
    "    print(f'\\n_ID:{counter}\\nname: {name}')\n",
    "    counter += 1\n",
    "\n",
    "user_name = 'JamalNoahChesterMorris'\n",
    "position = 1\n",
    "for character in user_name:\n",
    "    print(f'\\ncharacter: {character}\\nposition: {position}')\n",
    "    position += 1\n",
    "print(f'\\nThis User has {position - 1} characters in their user name'.upper())\n",
    "\n",
    "\n",
    "# Looping through a dictionary created in the Dictionary section of this notebook.\n",
    "for key, value in phonebook.items():\n",
    "    print(value)"
   ]
  },
  {
   "attachments": {},
   "cell_type": "markdown",
   "metadata": {},
   "source": [
    "### FizzBuzz | Oldschool coding interview question"
   ]
  },
  {
   "cell_type": "code",
   "execution_count": null,
   "metadata": {},
   "outputs": [],
   "source": [
    "# OBJECTIVE: Print all the numbers between 1 & 100, if a number is divisible by 3 (as a whole number print('FIZZ')), if its divisible by 5 print('BUZZ'), if its divisible by 3 & 5 print('FIZZBUZZ')\n",
    "\n",
    "def fizz_buzz():\n",
    "    counter = 1\n",
    "    while (counter <= 100):\n",
    "        if (counter % 3) == 0 and (counter % 5) == 0 :\n",
    "            print('FIZZBUZZ:', int(counter))\n",
    "        elif (counter % 3) == 0:\n",
    "            print('FIZZ:', int(counter))\n",
    "        elif (counter % 5) == 0:\n",
    "            print('BUZZ:', int(counter))\n",
    "        else:\n",
    "            print(int(counter))\n",
    "        counter += 1\n",
    "\n",
    "fizz_buzz()"
   ]
  },
  {
   "attachments": {},
   "cell_type": "markdown",
   "metadata": {},
   "source": [
    "### Functions"
   ]
  },
  {
   "cell_type": "code",
   "execution_count": null,
   "metadata": {},
   "outputs": [],
   "source": [
    "# Functions\n",
    "\n",
    "def naming_function(name_1, name_2):\n",
    "    return (f'Hello {name_1} {name_2}')\n",
    "\n",
    "namer = naming_function(name_1='Noah', name_2='Morris')\n",
    "\n",
    "for letter in namer:\n",
    "    print(letter.upper())"
   ]
  },
  {
   "attachments": {},
   "cell_type": "markdown",
   "metadata": {},
   "source": [
    "### Modules"
   ]
  },
  {
   "cell_type": "code",
   "execution_count": null,
   "metadata": {},
   "outputs": [],
   "source": [
    "# Python Modules\n",
    "# https://docs.python.org/3/py-modindex.html | Built in Software, Modules & Packages\n",
    "# https://pypi.org/ | 3RD Party Software, Modules & Packages\n",
    "\n",
    "# import pandas as pd\n",
    "# from pandas import DataFrame"
   ]
  },
  {
   "attachments": {},
   "cell_type": "markdown",
   "metadata": {},
   "source": [
    "### Classes"
   ]
  },
  {
   "cell_type": "code",
   "execution_count": null,
   "metadata": {},
   "outputs": [],
   "source": [
    "# Classes\n",
    "\n",
    "class Square:\n",
    "    def __init__(self, side_length):\n",
    "        self.side_length = side_length\n",
    "\n",
    "    def area(self):\n",
    "        return (self.side_length * self.side_length)\n",
    "    \n",
    "    def perimeter(self):\n",
    "        return (self.side_length * 4)\n",
    "    \n",
    "    def report(self):\n",
    "        part_01 = f'Side Length of the square: {self.side_length}'\n",
    "        part_02 = f'Area of the square: {self.area()}'\n",
    "        part_03 = f'Perimeter of the square: {self.perimeter()}'\n",
    "        return (part_01, part_02, part_03)\n",
    "\n",
    "\n",
    "my_square  = Square(side_length=5)\n",
    "print(my_square.report())\n",
    "\n",
    "# my_square  = Square(side_length='Noah')\n",
    "\n",
    "# print(my_square.side_length.upper())\n",
    "# print(f'side_length characters: {len(my_square.side_length)}')"
   ]
  }
 ],
 "metadata": {
  "kernelspec": {
   "display_name": "venv",
   "language": "python",
   "name": "python3"
  },
  "language_info": {
   "codemirror_mode": {
    "name": "ipython",
    "version": 3
   },
   "file_extension": ".py",
   "mimetype": "text/x-python",
   "name": "python",
   "nbconvert_exporter": "python",
   "pygments_lexer": "ipython3",
   "version": "3.11.3"
  },
  "orig_nbformat": 4
 },
 "nbformat": 4,
 "nbformat_minor": 2
}
